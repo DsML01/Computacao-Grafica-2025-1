{
 "cells": [
  {
   "cell_type": "code",
   "execution_count": 1,
   "id": "3faddf3c",
   "metadata": {},
   "outputs": [],
   "source": [
    "def bresenham(x1, y1, x2, y2):\n",
    "    pontos = []\n",
    "\n",
    "    dx = abs(x2 - x1)\n",
    "    dy = abs(y2 - y1)\n",
    "    sx = 1 if x1 < x2 else -1\n",
    "    sy = 1 if y1 < y2 else -1\n",
    "    err = 2 * dx - dy if dx < dy else 2 * dy - dx\n",
    "\n",
    "    while True:\n",
    "        pontos.append((x1, y1))\n",
    "        if x1 == x2 and y1 == y2:\n",
    "            break\n",
    "        if dx < dy:\n",
    "            if err >= 0:\n",
    "                x1 += sx\n",
    "                err -= 2 * dy\n",
    "            y1 += sy\n",
    "            err += 2 * dx\n",
    "        else:\n",
    "            if err >= 0:\n",
    "                y1 += sy\n",
    "                err -= 2 * dx\n",
    "            x1 += sx\n",
    "            err += 2 * dy\n",
    "    return pontos"
   ]
  },
  {
   "cell_type": "code",
   "execution_count": 2,
   "id": "10916e98",
   "metadata": {},
   "outputs": [
    {
     "name": "stdout",
     "output_type": "stream",
     "text": [
      "[(1, 1), (2, 2), (3, 2), (4, 3), (5, 3), (6, 4), (7, 4), (8, 5)]\n"
     ]
    }
   ],
   "source": [
    "pontos = bresenham(1, 1, 8, 5)\n",
    "print(pontos)"
   ]
  }
 ],
 "metadata": {
  "kernelspec": {
   "display_name": ".venv",
   "language": "python",
   "name": "python3"
  },
  "language_info": {
   "codemirror_mode": {
    "name": "ipython",
    "version": 3
   },
   "file_extension": ".py",
   "mimetype": "text/x-python",
   "name": "python",
   "nbconvert_exporter": "python",
   "pygments_lexer": "ipython3",
   "version": "3.10.12"
  }
 },
 "nbformat": 4,
 "nbformat_minor": 5
}
